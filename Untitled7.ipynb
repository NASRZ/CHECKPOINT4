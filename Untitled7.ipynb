{
 "cells": [
  {
   "cell_type": "code",
   "execution_count": 3,
   "id": "a1195718",
   "metadata": {},
   "outputs": [
    {
     "name": "stdout",
     "output_type": "stream",
     "text": [
      "(1, 2, 3)\n"
     ]
    }
   ],
   "source": [
    "class Point3D(object):\n",
    "    def __init__(self, x, y, z):\n",
    "        self.x = x\n",
    "        self.y = y\n",
    "        self.z = z\n",
    "    def __repr__(self):\n",
    "        return \"(%d, %d, %d)\" % (self.x, self.y, self.z)\n",
    "my_point = Point3D(1,2,3)\n",
    "print (my_point)"
   ]
  },
  {
   "cell_type": "code",
   "execution_count": 5,
   "id": "775fe0ed",
   "metadata": {},
   "outputs": [
    {
     "name": "stdout",
     "output_type": "stream",
     "text": [
      "120\n"
     ]
    }
   ],
   "source": [
    "class Rectangle():\n",
    "    def __init__(self, l, w):\n",
    "        self.length = l\n",
    "        self.width  = w\n",
    "\n",
    "    def rectangle_area(self):\n",
    "        return self.length*self.width\n",
    "    \n",
    "    def rectangle_perimetre(self):\n",
    "        return (self.width+self.lenth)*2\n",
    "    \n",
    "\n",
    "newRectangle = Rectangle(12 , 10)\n",
    "print(newRectangle.rectangle_area())\n"
   ]
  },
  {
   "cell_type": "code",
   "execution_count": 19,
   "id": "e1a9989a",
   "metadata": {},
   "outputs": [
    {
     "name": "stdout",
     "output_type": "stream",
     "text": [
      "200.96\n",
      "50.24\n",
      "9\n",
      "8\n",
      "7\n",
      "6\n",
      "inside\n"
     ]
    }
   ],
   "source": [
    "class Circle():\n",
    "    def __init__(self, r):\n",
    "        self.radius = r\n",
    "\n",
    "    def area(self):\n",
    "        return self.radius**2*3.14\n",
    "    \n",
    "    def perimeter(self):\n",
    "        return 2*self.radius*3.14\n",
    "    \n",
    "    def findarea(self): \n",
    "        Xo=int(input())\n",
    "        Yo=int(input())\n",
    "        Xa=int(input())\n",
    "        Ya=int(input())\n",
    "        t=round(((Xa-Xo)**2+(Ya-Yo)**2)**0,5)\n",
    "        if t < self.radius :\n",
    "            return (\"inside\")\n",
    "        else:\n",
    "            return (\"not inside\")\n",
    "\n",
    "\n",
    "NewCircle = Circle(8)\n",
    "print(NewCircle.area())\n",
    "print(NewCircle.perimeter())\n",
    "print(NewCircle.findarea())"
   ]
  },
  {
   "cell_type": "code",
   "execution_count": 33,
   "id": "ff97a682",
   "metadata": {},
   "outputs": [
    {
     "name": "stdout",
     "output_type": "stream",
     "text": [
      "Your Account is Created.\n",
      "Enter the amount to deposit:12\n",
      "Your New Balance =12\n",
      "Enter the amount to withdraw:6\n",
      "Your Remaining Balance =6\n",
      "Your Balance =6\n"
     ]
    }
   ],
   "source": [
    "class Account:\n",
    "    def __init__(self):\n",
    "        self.balance=0\n",
    "        print('Your Account is Created.')\n",
    "    def deposit(self):\n",
    "        amount=int(input('Enter the amount to deposit:'))\n",
    "        self.balance+=amount\n",
    "        print('Your New Balance =%d' %self.balance)\n",
    "    def withdraw(self):\n",
    "        amount=int(input('Enter the amount to withdraw:'))\n",
    "        if(amount>self.balance):\n",
    "            print('Insufficient Balance!')\n",
    "        else:\n",
    "            self.balance-=amount\n",
    "            print('Your Remaining Balance =%d' %self.balance)\n",
    "    def enquiry(self):\n",
    "        print('Your Balance =%d' %self.balance)\n",
    "account= Account()\n",
    "account.deposit()\n",
    "account.withdraw()\n",
    "account.enquiry()"
   ]
  },
  {
   "cell_type": "code",
   "execution_count": null,
   "id": "70ef4e97",
   "metadata": {},
   "outputs": [],
   "source": []
  }
 ],
 "metadata": {
  "kernelspec": {
   "display_name": "Python 3",
   "language": "python",
   "name": "python3"
  },
  "language_info": {
   "codemirror_mode": {
    "name": "ipython",
    "version": 3
   },
   "file_extension": ".py",
   "mimetype": "text/x-python",
   "name": "python",
   "nbconvert_exporter": "python",
   "pygments_lexer": "ipython3",
   "version": "3.8.8"
  }
 },
 "nbformat": 4,
 "nbformat_minor": 5
}
